{
 "cells": [
  {
   "cell_type": "code",
   "execution_count": 239,
   "metadata": {
    "collapsed": false
   },
   "outputs": [
    {
     "name": "stdout",
     "output_type": "stream",
     "text": [
      "Populating the interactive namespace from numpy and matplotlib\n"
     ]
    }
   ],
   "source": [
    "##importing the required libraries##\n",
    "import pandas as pd\n",
    "import numpy as np\n",
    "import glob\n",
    "import matplotlib.pyplot as plt\n",
    "%pylab inline"
   ]
  },
  {
   "cell_type": "code",
   "execution_count": 240,
   "metadata": {
    "collapsed": false
   },
   "outputs": [
    {
     "data": {
      "text/html": [
       "<div>\n",
       "<table border=\"1\" class=\"dataframe\">\n",
       "  <thead>\n",
       "    <tr style=\"text-align: right;\">\n",
       "      <th></th>\n",
       "      <th>State</th>\n",
       "      <th>Sex</th>\n",
       "      <th>Year Born</th>\n",
       "      <th>Name</th>\n",
       "      <th>Name Frequency</th>\n",
       "    </tr>\n",
       "  </thead>\n",
       "  <tbody>\n",
       "    <tr>\n",
       "      <th>0</th>\n",
       "      <td>AK</td>\n",
       "      <td>F</td>\n",
       "      <td>1910</td>\n",
       "      <td>Mary</td>\n",
       "      <td>14</td>\n",
       "    </tr>\n",
       "    <tr>\n",
       "      <th>1</th>\n",
       "      <td>AK</td>\n",
       "      <td>F</td>\n",
       "      <td>1910</td>\n",
       "      <td>Annie</td>\n",
       "      <td>12</td>\n",
       "    </tr>\n",
       "    <tr>\n",
       "      <th>2</th>\n",
       "      <td>AK</td>\n",
       "      <td>F</td>\n",
       "      <td>1910</td>\n",
       "      <td>Anna</td>\n",
       "      <td>10</td>\n",
       "    </tr>\n",
       "    <tr>\n",
       "      <th>3</th>\n",
       "      <td>AK</td>\n",
       "      <td>F</td>\n",
       "      <td>1910</td>\n",
       "      <td>Margaret</td>\n",
       "      <td>8</td>\n",
       "    </tr>\n",
       "    <tr>\n",
       "      <th>4</th>\n",
       "      <td>AK</td>\n",
       "      <td>F</td>\n",
       "      <td>1910</td>\n",
       "      <td>Helen</td>\n",
       "      <td>7</td>\n",
       "    </tr>\n",
       "  </tbody>\n",
       "</table>\n",
       "</div>"
      ],
      "text/plain": [
       "  State Sex  Year Born      Name  Name Frequency\n",
       "0    AK   F       1910      Mary              14\n",
       "1    AK   F       1910     Annie              12\n",
       "2    AK   F       1910      Anna              10\n",
       "3    AK   F       1910  Margaret               8\n",
       "4    AK   F       1910     Helen               7"
      ]
     },
     "execution_count": 240,
     "metadata": {},
     "output_type": "execute_result"
    }
   ],
   "source": [
    "train_DF_AK=pd.read_csv('namesbystate/AK.txt', delimiter=',', names=['State',\\\n",
    "                                    'Sex','Year Born','Name','Name Frequency'])\n",
    "train_DF_AK.head()"
   ]
  },
  {
   "cell_type": "markdown",
   "metadata": {},
   "source": [
    "1.  Please describe the format of the data files. Can you identify any \n",
    "    limitations or distortions of the data? \n",
    "\n",
    "**The list of names for each states is a comma delimited text file which 5 columns describing the State, Sex, Year Born, Names, and Name Frequency**"
   ]
  },
  {
   "cell_type": "code",
   "execution_count": 241,
   "metadata": {
    "collapsed": false
   },
   "outputs": [],
   "source": [
    "##Creating a big DataFrame (train_DF_popular) containing the data from all states##\n",
    "train_DF_all=pd.DataFrame()\n",
    "for fil in glob.glob('./namesbystate/*.TXT'):\n",
    "     train_DF_all=train_DF_all.append(pd.read_csv(fil, delimiter=',', \\\n",
    "names=['State','Sex','Year Born','Name','Name Frequency']), ignore_index=True)"
   ]
  },
  {
   "cell_type": "code",
   "execution_count": 242,
   "metadata": {
    "collapsed": false
   },
   "outputs": [
    {
     "name": "stdout",
     "output_type": "stream",
     "text": [
      "The most popular name of all time is: James \n",
      "With total count of: 4957166\n"
     ]
    }
   ],
   "source": [
    "##Grouping by Name and couting the total frequency for each name to \n",
    "#find the most popular name##\n",
    "train_DF_total_freq=train_DF_all.groupby('Name').sum()['Name Frequency']\n",
    "print \"The most popular name of all time is:\", train_DF_total_freq.\\\n",
    "idxmax(),'\\n','With total count of:',train_DF_total_freq.ix[train_DF_total_freq.idxmax()]"
   ]
  },
  {
   "cell_type": "markdown",
   "metadata": {},
   "source": [
    "What is the most popular name of all time? (Of either gender.)\n",
    "\n",
    "The most popular name of all time is: **James** With total count of **4957166**"
   ]
  },
  {
   "cell_type": "code",
   "execution_count": 243,
   "metadata": {
    "collapsed": false
   },
   "outputs": [
    {
     "name": "stdout",
     "output_type": "stream",
     "text": [
      "The most gender ambiguos name in 2013 is: Emma\n",
      "with count of 20881\n"
     ]
    }
   ],
   "source": [
    "female_names=pd.DataFrame(train_DF_all.ix[train_DF_all['Year Born']==2013]\\\n",
    "                          .groupby(['Sex','Name']).sum()['Name Frequency'].ix['F'])\n",
    "male_names=pd.DataFrame(train_DF_all.ix[train_DF_all['Year Born']==2013]\\\n",
    "                        .groupby(['Sex','Name']).sum()['Name Frequency'].ix['M'])\n",
    "male_female_inner_join=pd.concat([female_names, male_names], axis=1, join='inner')\n",
    "print \"The most gender ambiguos name in 2013 is:\", male_female_inner_join.\\\n",
    "                                                    sum(axis=1).idxmax()\n",
    "print \"with count of\", male_female_inner_join.sum(axis=1).max()"
   ]
  },
  {
   "cell_type": "code",
   "execution_count": 244,
   "metadata": {
    "collapsed": false
   },
   "outputs": [
    {
     "name": "stdout",
     "output_type": "stream",
     "text": [
      "The most gender ambiguos name in 1945 is: James\n",
      "with count of 74651\n"
     ]
    }
   ],
   "source": [
    "female_names=pd.DataFrame(train_DF_all.ix[train_DF_all['Year Born']==1945]\\\n",
    "                          .groupby(['Sex','Name']).sum()['Name Frequency'].ix['F'])\n",
    "male_names=pd.DataFrame(train_DF_all.ix[train_DF_all['Year Born']==1945]\\\n",
    "                        .groupby(['Sex','Name']).sum()['Name Frequency'].ix['M'])\n",
    "male_female_inner_join=pd.concat([female_names, male_names], axis=1, join='inner')\n",
    "print \"The most gender ambiguos name in 1945 is:\", male_female_inner_join\\\n",
    "                                                    .sum(axis=1).idxmax()\n",
    "print \"with count of\", male_female_inner_join.sum(axis=1).max()"
   ]
  },
  {
   "cell_type": "markdown",
   "metadata": {},
   "source": [
    "3.  What is the most gender ambiguous name in 2013? 1945?\n",
    "\n",
    "The most gender ambiguos name in 2013 is: **Emma** With total count of **20881**\n",
    "\n",
    "The most gender ambiguos name in 1945 is: **James** With total count of **74651**"
   ]
  },
  {
   "cell_type": "code",
   "execution_count": 245,
   "metadata": {
    "collapsed": false
   },
   "outputs": [
    {
     "name": "stdout",
     "output_type": "stream",
     "text": [
      "Colton has had the largest increase of 126600 percent\n"
     ]
    }
   ],
   "source": [
    "names_1980 = pd.DataFrame(train_DF_all.ix[train_DF_all['Year Born']==1980]\\\n",
    "                          .groupby('Name').sum()['Name Frequency'])\n",
    "names_2014 = pd.DataFrame(train_DF_all.ix[train_DF_all['Year Born']==2014]\\\n",
    "                          .groupby('Name').sum()['Name Frequency'])\n",
    "names_1980_2014 = pd.merge(names_1980, names_2014, left_index=True, right_index=True, \\\n",
    "                           suffixes=['_1980', '_2014'], how='inner')\n",
    "names_1980_2014['names_rate_increase']=100*(names_1980_2014['Name Frequency_2014']-\\\n",
    "    names_1980_2014['Name Frequency_1980'])/(names_1980_2014['Name Frequency_1980'])\n",
    "largest_increase = names_1980_2014.ix[names_1980_2014['names_rate_increase'].idxmax()]\n",
    "print \"%s has had the largest increase of %d percent\" \\\n",
    "%(names_1980_2014['names_rate_increase'].idxmax(),largest_increase['names_rate_increase'])"
   ]
  },
  {
   "cell_type": "code",
   "execution_count": 246,
   "metadata": {
    "collapsed": false
   },
   "outputs": [
    {
     "name": "stdout",
     "output_type": "stream",
     "text": [
      "Latoya has had the largest decrease of 49500.000000 percent\n"
     ]
    }
   ],
   "source": [
    "names_1980_2014['names_rate_decrease']=100*(names_1980_2014['Name Frequency_1980']-\\\n",
    "    names_1980_2014['Name Frequency_2014'])/(names_1980_2014['Name Frequency_2014'])\n",
    "largest_decrease = names_1980_2014.ix[names_1980_2014['names_rate_decrease'].idxmax()]\n",
    "print \"%s has had the largest decrease of %f percent\" \\\n",
    "%(names_1980_2014['names_rate_decrease'].idxmax(),largest_decrease['names_rate_decrease'])"
   ]
  },
  {
   "cell_type": "markdown",
   "metadata": {},
   "source": [
    "Of the names represented in the data, find the name that has had the largest \n",
    "    percentage increase in popularity since 1980. Largest decrease?\n",
    "    \n",
    "**Colton** has had the largest increase of **126840%**\n",
    "\n",
    "**Latoya** has had the largest decrease of **49500%**\n"
   ]
  },
  {
   "cell_type": "markdown",
   "metadata": {},
   "source": [
    "Can you identify names that may have had an even larger increase or decrease \n",
    "    in popularity?\n",
    "    \n",
    "**If we include the names that has had 0 count in one of the years (2014 or 1980), we can recalculate the increase/decrease in popularity and get even larger increase/decrease as follows**"
   ]
  },
  {
   "cell_type": "code",
   "execution_count": 247,
   "metadata": {
    "collapsed": false
   },
   "outputs": [
    {
     "name": "stdout",
     "output_type": "stream",
     "text": [
      "Jayden has had even larger increase of 1341900 percent\n"
     ]
    }
   ],
   "source": [
    "names_1980 = pd.DataFrame(train_DF_all.ix[train_DF_all['Year Born']==1980]\\\n",
    "                          .groupby('Name').sum()['Name Frequency'])\n",
    "names_2014 = pd.DataFrame(train_DF_all.ix[train_DF_all['Year Born']==2014]\\\n",
    "                          .groupby('Name').sum()['Name Frequency'])\n",
    "names_1980_2014 = pd.merge(names_1980, names_2014, left_index=True, right_index=True, \\\n",
    "                           suffixes=['_1980', '_2014'], how='outer').fillna(0)\n",
    "names_1980_2014['names_rate_increase']=100*(names_1980_2014['Name Frequency_2014']-\\\n",
    "    names_1980_2014['Name Frequency_1980'])/(1+names_1980_2014['Name Frequency_1980'])\n",
    "largest_increase = names_1980_2014.ix[names_1980_2014['names_rate_increase'].idxmax()]\n",
    "print \"%s has had even larger increase of %d percent\" \\\n",
    "%(names_1980_2014['names_rate_increase'].idxmax(),largest_increase['names_rate_increase'])"
   ]
  },
  {
   "cell_type": "code",
   "execution_count": 248,
   "metadata": {
    "collapsed": false
   },
   "outputs": [
    {
     "name": "stdout",
     "output_type": "stream",
     "text": [
      "Tonya has had even larger decrease of 307300.000000 percent\n"
     ]
    }
   ],
   "source": [
    "names_1980_2014['names_rate_decrease']=100*(names_1980_2014['Name Frequency_1980']-\\\n",
    "names_1980_2014['Name Frequency_2014'])/(1+names_1980_2014['Name Frequency_2014'])\n",
    "largest_decrease = names_1980_2014.ix[names_1980_2014['names_rate_decrease'].idxmax()]\n",
    "print \"%s has had even larger decrease of %f percent\" \\\n",
    "%(names_1980_2014['names_rate_decrease'].idxmax(),largest_decrease['names_rate_decrease'])"
   ]
  },
  {
   "cell_type": "markdown",
   "metadata": {},
   "source": [
    "B) Onward to Insight!\n",
    "What insight can you extract from this dataset? Feel free to combine the baby \n",
    "names data with other publicly available datasets or APIs, but be sure to include \n",
    "code for accessing any alternative data that you use.\n",
    "This is an open-ended question and you are free to answer as you see fit. In \n",
    "fact, we would love it if you find an interesting way to look at the data that \n",
    "we haven't thought of! \n",
    "\n",
    "**One observation I had was that the increase/decrease of popularity of the babiy names seem to have a very strong correlation with what's happening in the world. For example:**\n",
    "\n",
    "There is a sharp popularity increase in the name \"Neil\" in 1969-1972 after Neil Armstrong stepped on the moon in 1969!"
   ]
  },
  {
   "cell_type": "code",
   "execution_count": 249,
   "metadata": {
    "collapsed": false
   },
   "outputs": [
    {
     "data": {
      "text/plain": [
       "<matplotlib.collections.PathCollection at 0x12e668410>"
      ]
     },
     "execution_count": 249,
     "metadata": {},
     "output_type": "execute_result"
    },
    {
     "data": {
      "image/png": "[encoded data removed]",
      "text/plain": [
       "<matplotlib.figure.Figure at 0x107c5f690>"
      ]
     },
     "metadata": {},
     "output_type": "display_data"
    }
   ],
   "source": [
    "plt.scatter(train_DF_all.ix[train_DF_all['Name']=='Neil']\\\n",
    "            .groupby(['Year Born']).sum().ix[1960:1990].index,\\\n",
    "            train_DF_all.ix[train_DF_all['Name']=='Neil']\\\n",
    "            .groupby(['Year Born']).sum().ix[1960:1990]['Name Frequency'])"
   ]
  },
  {
   "cell_type": "markdown",
   "metadata": {},
   "source": [
    "One more observation I had was assuming the life expectancy of 80 years in USA (http://www.huffingtonpost.com/2013/11/21/us-life-expectancy-oecd_n_4317367.html) we can predict the age of a person by the average age of the people who has the same name and are born after $2014-80= 1934$\n",
    "\n",
    "The everaging can be done in a weighted average fashion. i.e., \n",
    "$$\n",
    "Predicted\\_Average\\_Age =\\frac{\\Sigma (Age*Name\\_Frequency)}{\\Sigma(Name\\_Frequency)}\n",
    "$$\n",
    "\n",
    "Where \n",
    "$$\n",
    "age=2014-Year Born\n",
    "$$\n",
    "\n",
    "It is crucial to calculate the weighted variance/standard deviation as well to get more confidence in the average age estimation:\n",
    "$$\n",
    "Standard\\_Devidation\\_Age=\\sqrt(\\frac{\\Sigma Name\\_Frequency*(Age-Predicted\\_Average\\_Age)^2}{\\Sigma(Name\\_Frequency)})\n",
    "$$\n",
    "The following function looks at the data from 1934 to 2014 and derive the weighted average and weighted variance for each given name"
   ]
  },
  {
   "cell_type": "code",
   "execution_count": 254,
   "metadata": {
    "collapsed": false
   },
   "outputs": [],
   "source": [
    "def age_predictor (name):\n",
    "    age_DF=train_DF_all.ix[train_DF_all['Name']==name].groupby(['Year Born']).sum().ix[1934:]\n",
    "    age_DF=age_DF.reset_index()\n",
    "    age_DF['age']=pd.DataFrame(2014-age_DF['Year Born'])\n",
    "    age_DF['Weighted Age']=age_DF['age']*age_DF['Name Frequency']\n",
    "    age_DF_mean=age_DF['Weighted Age'].sum()/(age_DF['Name Frequency'].sum())\n",
    "    age_DF['Weighted (Age-Mean)^2']=pow((age_DF['age']-age_DF_mean),2)\\\n",
    "                                            *age_DF['Name Frequency']\n",
    "    age_DF_std=sqrt((age_DF['Weighted (Age-Mean)^2'].sum())/\\\n",
    "                                    (age_DF['Name Frequency'].sum()))\n",
    "    print name, \"Predicted Age is %f with Standard Deviation of %f\" \\\n",
    "                                        %(age_DF_mean, age_DF_std)\n",
    "    return age_DF_mean, age_DF_std"
   ]
  },
  {
   "cell_type": "markdown",
   "metadata": {},
   "source": [
    "For example the average and variance of the age of a person named \"Neil\" can be calculated as below:"
   ]
  },
  {
   "cell_type": "code",
   "execution_count": 255,
   "metadata": {
    "collapsed": false
   },
   "outputs": [
    {
     "name": "stdout",
     "output_type": "stream",
     "text": [
      "Neil Predicted Age is 47.000000 with Standard Deviation of 19.157244\n"
     ]
    }
   ],
   "source": [
    "Neil_mean, Neil_Variance = age_predictor ('Neil')"
   ]
  },
  {
   "cell_type": "markdown",
   "metadata": {},
   "source": [
    "Also looking at the average age of people named **Latoya** and **Colton** we can see that the average age of \"Latoya\" is much higher than \"Colton\" which is inline with their popularity decrease and increase, respectively."
   ]
  },
  {
   "cell_type": "code",
   "execution_count": 252,
   "metadata": {
    "collapsed": false
   },
   "outputs": [
    {
     "name": "stdout",
     "output_type": "stream",
     "text": [
      "Latoya Predicted Age is 31.000000 with Standard Deviation of 4.898979\n",
      "Colton Predicted Age is 10.000000 with Standard Deviation of 7.810250\n"
     ]
    }
   ],
   "source": [
    "Latoya_mean, Latoya_Variance = age_predictor ('Latoya')\n",
    "Colton_mean, Colton_Variance = age_predictor ('Colton')"
   ]
  },
  {
   "cell_type": "markdown",
   "metadata": {},
   "source": [
    "We can also confirm our perception of *old* names and *young* names. Funny but seems to be true that names like **Gloria** and **Donald** seem to be *old* names with an average living person of **60 years old** while names like **Ashley** and **Gavin** seem to be young with an average living person of **9 years old**."
   ]
  },
  {
   "cell_type": "code",
   "execution_count": 253,
   "metadata": {
    "collapsed": false
   },
   "outputs": [
    {
     "name": "stdout",
     "output_type": "stream",
     "text": [
      "Gloria Predicted Age is 59.000000 with Standard Deviation of 16.278821\n",
      "Donald Predicted Age is 58.000000 with Standard Deviation of 15.748016\n",
      "Lily Predicted Age is 9.000000 with Standard Deviation of 11.789826\n",
      "Gavin Predicted Age is 9.000000 with Standard Deviation of 8.062258\n"
     ]
    }
   ],
   "source": [
    "m,v = age_predictor ('Gloria')\n",
    "m,v = age_predictor ('Donald')\n",
    "m,v = age_predictor ('Lily')\n",
    "m,v = age_predictor ('Gavin')"
   ]
  }
 ],
 "metadata": {
  "kernelspec": {
   "display_name": "Python 2",
   "language": "python",
   "name": "python2"
  },
  "language_info": {
   "codemirror_mode": {
    "name": "ipython",
    "version": 2
   },
   "file_extension": ".py",
   "mimetype": "text/x-python",
   "name": "python",
   "nbconvert_exporter": "python",
   "pygments_lexer": "ipython2",
   "version": "2.7.10"
  }
 },
 "nbformat": 4,
 "nbformat_minor": 0
}
