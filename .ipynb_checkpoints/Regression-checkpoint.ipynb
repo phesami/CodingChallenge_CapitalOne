{
 "cells": [
  {
   "cell_type": "code",
   "execution_count": 113,
   "metadata": {
    "collapsed": false
   },
   "outputs": [
    {
     "name": "stdout",
     "output_type": "stream",
     "text": [
      "Populating the interactive namespace from numpy and matplotlib\n"
     ]
    }
   ],
   "source": [
    "##importing the required libariries##\n",
    "import pandas as pd\n",
    "import numpy as np\n",
    "import matplotlib.pyplot as plt\n",
    "from sklearn import svm\n",
    "from sklearn import preprocessing\n",
    "from sklearn.cross_validation import train_test_split\n",
    "from sklearn.decomposition import PCA\n",
    "from sklearn.ensemble.forest import RandomForestRegressor\n",
    "from sklearn.cross_validation import cross_val_score\n",
    "import operator\n",
    "%pylab inline"
   ]
  },
  {
   "cell_type": "code",
   "execution_count": 71,
   "metadata": {
    "collapsed": false
   },
   "outputs": [
    {
     "data": {
      "text/html": [
       "<div>\n",
       "<table border=\"1\" class=\"dataframe\">\n",
       "  <thead>\n",
       "    <tr style=\"text-align: right;\">\n",
       "      <th></th>\n",
       "      <th>target</th>\n",
       "      <th>f_0</th>\n",
       "      <th>f_1</th>\n",
       "      <th>f_2</th>\n",
       "      <th>f_3</th>\n",
       "      <th>f_4</th>\n",
       "      <th>f_5</th>\n",
       "      <th>f_6</th>\n",
       "      <th>f_7</th>\n",
       "      <th>f_8</th>\n",
       "      <th>...</th>\n",
       "      <th>f_244</th>\n",
       "      <th>f_245</th>\n",
       "      <th>f_246</th>\n",
       "      <th>f_247</th>\n",
       "      <th>f_248</th>\n",
       "      <th>f_249</th>\n",
       "      <th>f_250</th>\n",
       "      <th>f_251</th>\n",
       "      <th>f_252</th>\n",
       "      <th>f_253</th>\n",
       "    </tr>\n",
       "  </thead>\n",
       "  <tbody>\n",
       "    <tr>\n",
       "      <th>0</th>\n",
       "      <td>3.066056</td>\n",
       "      <td>-0.653</td>\n",
       "      <td>0.255</td>\n",
       "      <td>-0.615</td>\n",
       "      <td>-1.833</td>\n",
       "      <td>-0.736</td>\n",
       "      <td>NaN</td>\n",
       "      <td>1.115</td>\n",
       "      <td>-0.171</td>\n",
       "      <td>-0.351</td>\n",
       "      <td>...</td>\n",
       "      <td>-1.607</td>\n",
       "      <td>-1.400</td>\n",
       "      <td>-0.920</td>\n",
       "      <td>-0.198</td>\n",
       "      <td>-0.945</td>\n",
       "      <td>-0.573</td>\n",
       "      <td>0.170</td>\n",
       "      <td>-0.418</td>\n",
       "      <td>-1.244</td>\n",
       "      <td>-0.503</td>\n",
       "    </tr>\n",
       "    <tr>\n",
       "      <th>1</th>\n",
       "      <td>-1.910473</td>\n",
       "      <td>1.179</td>\n",
       "      <td>-0.093</td>\n",
       "      <td>-0.556</td>\n",
       "      <td>0.811</td>\n",
       "      <td>-0.468</td>\n",
       "      <td>-0.005</td>\n",
       "      <td>-0.116</td>\n",
       "      <td>-1.243</td>\n",
       "      <td>1.985</td>\n",
       "      <td>...</td>\n",
       "      <td>1.282</td>\n",
       "      <td>0.032</td>\n",
       "      <td>-0.061</td>\n",
       "      <td>NaN</td>\n",
       "      <td>-0.061</td>\n",
       "      <td>-0.302</td>\n",
       "      <td>1.281</td>\n",
       "      <td>-0.850</td>\n",
       "      <td>0.821</td>\n",
       "      <td>-0.260</td>\n",
       "    </tr>\n",
       "    <tr>\n",
       "      <th>2</th>\n",
       "      <td>7.830711</td>\n",
       "      <td>0.181</td>\n",
       "      <td>-0.778</td>\n",
       "      <td>-0.919</td>\n",
       "      <td>0.113</td>\n",
       "      <td>0.887</td>\n",
       "      <td>-0.762</td>\n",
       "      <td>1.872</td>\n",
       "      <td>-1.709</td>\n",
       "      <td>0.135</td>\n",
       "      <td>...</td>\n",
       "      <td>-0.237</td>\n",
       "      <td>-0.660</td>\n",
       "      <td>1.073</td>\n",
       "      <td>-0.193</td>\n",
       "      <td>0.570</td>\n",
       "      <td>-0.267</td>\n",
       "      <td>1.435</td>\n",
       "      <td>1.332</td>\n",
       "      <td>-1.147</td>\n",
       "      <td>2.580</td>\n",
       "    </tr>\n",
       "    <tr>\n",
       "      <th>3</th>\n",
       "      <td>-2.180862</td>\n",
       "      <td>0.745</td>\n",
       "      <td>-0.245</td>\n",
       "      <td>-1.343</td>\n",
       "      <td>1.163</td>\n",
       "      <td>-0.169</td>\n",
       "      <td>-0.151</td>\n",
       "      <td>-1.100</td>\n",
       "      <td>0.225</td>\n",
       "      <td>1.223</td>\n",
       "      <td>...</td>\n",
       "      <td>0.709</td>\n",
       "      <td>-0.203</td>\n",
       "      <td>-0.136</td>\n",
       "      <td>-0.571</td>\n",
       "      <td>1.682</td>\n",
       "      <td>0.243</td>\n",
       "      <td>-0.381</td>\n",
       "      <td>0.613</td>\n",
       "      <td>1.033</td>\n",
       "      <td>0.400</td>\n",
       "    </tr>\n",
       "    <tr>\n",
       "      <th>4</th>\n",
       "      <td>5.462784</td>\n",
       "      <td>1.217</td>\n",
       "      <td>-1.324</td>\n",
       "      <td>-0.958</td>\n",
       "      <td>0.448</td>\n",
       "      <td>-2.873</td>\n",
       "      <td>-0.856</td>\n",
       "      <td>0.603</td>\n",
       "      <td>0.763</td>\n",
       "      <td>0.020</td>\n",
       "      <td>...</td>\n",
       "      <td>0.892</td>\n",
       "      <td>-0.433</td>\n",
       "      <td>-0.877</td>\n",
       "      <td>0.289</td>\n",
       "      <td>0.654</td>\n",
       "      <td>1.230</td>\n",
       "      <td>0.457</td>\n",
       "      <td>-0.754</td>\n",
       "      <td>-0.025</td>\n",
       "      <td>-0.931</td>\n",
       "    </tr>\n",
       "  </tbody>\n",
       "</table>\n",
       "<p>5 rows × 255 columns</p>\n",
       "</div>"
      ],
      "text/plain": [
       "     target    f_0    f_1    f_2    f_3    f_4    f_5    f_6    f_7    f_8  \\\n",
       "0  3.066056 -0.653  0.255 -0.615 -1.833 -0.736    NaN  1.115 -0.171 -0.351   \n",
       "1 -1.910473  1.179 -0.093 -0.556  0.811 -0.468 -0.005 -0.116 -1.243  1.985   \n",
       "2  7.830711  0.181 -0.778 -0.919  0.113  0.887 -0.762  1.872 -1.709  0.135   \n",
       "3 -2.180862  0.745 -0.245 -1.343  1.163 -0.169 -0.151 -1.100  0.225  1.223   \n",
       "4  5.462784  1.217 -1.324 -0.958  0.448 -2.873 -0.856  0.603  0.763  0.020   \n",
       "\n",
       "   ...    f_244  f_245  f_246  f_247  f_248  f_249  f_250  f_251  f_252  f_253  \n",
       "0  ...   -1.607 -1.400 -0.920 -0.198 -0.945 -0.573  0.170 -0.418 -1.244 -0.503  \n",
       "1  ...    1.282  0.032 -0.061    NaN -0.061 -0.302  1.281 -0.850  0.821 -0.260  \n",
       "2  ...   -0.237 -0.660  1.073 -0.193  0.570 -0.267  1.435  1.332 -1.147  2.580  \n",
       "3  ...    0.709 -0.203 -0.136 -0.571  1.682  0.243 -0.381  0.613  1.033  0.400  \n",
       "4  ...    0.892 -0.433 -0.877  0.289  0.654  1.230  0.457 -0.754 -0.025 -0.931  \n",
       "\n",
       "[5 rows x 255 columns]"
      ]
     },
     "execution_count": 71,
     "metadata": {},
     "output_type": "execute_result"
    }
   ],
   "source": [
    "##importing the data into a pandas data frame##\n",
    "train_DF=pd.read_csv('codetest_train.txt', delimiter='\\t')\n",
    "train_DF.head()"
   ]
  },
  {
   "cell_type": "code",
   "execution_count": 72,
   "metadata": {
    "collapsed": false
   },
   "outputs": [
    {
     "data": {
      "text/plain": [
       "count    5000.000000\n",
       "mean        1.143878\n",
       "std         5.259896\n",
       "min       -26.705570\n",
       "25%        -2.034383\n",
       "50%         1.166835\n",
       "75%         4.439549\n",
       "max        26.347818\n",
       "Name: target, dtype: float64"
      ]
     },
     "execution_count": 72,
     "metadata": {},
     "output_type": "execute_result"
    },
    {
     "data": {
      "image/png": "[encoded data removed]",
      "text/plain": [
       "<matplotlib.figure.Figure at 0x10aa563d0>"
      ]
     },
     "metadata": {},
     "output_type": "display_data"
    }
   ],
   "source": [
    "##getting the statistics of the target values to get a better feeling of the proper learning method##\n",
    "n, bins, patches = plt.hist(train_DF['target'], 50, normed=1, facecolor='green', alpha=0.75)\n",
    "train_DF['target'].describe()"
   ]
  },
  {
   "cell_type": "code",
   "execution_count": 73,
   "metadata": {
    "collapsed": false
   },
   "outputs": [],
   "source": [
    "##splitting the data into train/test set to have a set for performance evaluation##\n",
    "X_train, X_test, y_train, y_test = train_test_split(train_DF.iloc[:,1:255], train_DF['target'].round(decimals=0), test_size=0.2)"
   ]
  },
  {
   "cell_type": "code",
   "execution_count": 138,
   "metadata": {
    "collapsed": false
   },
   "outputs": [],
   "source": [
    "##data_refine function will: 1-find the non-numeric columns, 2- fill the NaN in non-numeric columns with the most used element\n",
    "#3- transform the non-numeric columns to numeric values using LabelEncoder method from SKLearn, 4- fill the NaN values in the numeric\n",
    "#columns using the mean value of them\n",
    "def data_refine(train_DF):\n",
    "    #1-find the non-numeric columns#\n",
    "    real_or_str=train_DF.applymap(np.isreal).all(0)\n",
    "    non_num_feature=real_or_str[~real_or_str].keys()\n",
    "    le = preprocessing.LabelEncoder()\n",
    "    for col in non_num_feature:\n",
    "        #2- fill the NaN in non-numeric columns with the most used element#\n",
    "        train_DF[col].fillna(train_DF[col].describe().top, inplace=True)\n",
    "        #3- transform the non-numeric columns to numeric values using LabelEncoder method from SKLearn#\n",
    "        train_DF[col]=le.fit_transform(train_DF[col])\n",
    "    #4- fill the NaN values in the numeric columns using the mean value of them\n",
    "    train_DF.fillna(train_DF.mean(), inplace=True)\n",
    "    return train_DF\n",
    "\n",
    "X_train_refined=data_refine(X_train)\n",
    "X_test_refined=data_refine(X_test)"
   ]
  },
  {
   "cell_type": "code",
   "execution_count": 155,
   "metadata": {
    "collapsed": false
   },
   "outputs": [
    {
     "name": "stdout",
     "output_type": "stream",
     "text": [
      "MSE on the training set is:\n",
      "12.8529173766\n",
      "MSE on the test set is:\n",
      "18.4248539444\n"
     ]
    }
   ],
   "source": [
    "##Using a Support Vector Regressor as our learning technique##\n",
    "clf = svm.SVR(C=1, epsilon=0.2)\n",
    "clf.fit(X_train_refined, y_train) \n",
    "print (\"MSE on the training set is:\\n\"), mean_squared_error(y_train, clf.predict(X_train_refined))\n",
    "print (\"MSE on the test set is:\\n\"), mean_squared_error(y_test, clf.predict(X_test_refined))"
   ]
  },
  {
   "cell_type": "code",
   "execution_count": 157,
   "metadata": {
    "collapsed": false
   },
   "outputs": [
    {
     "name": "stdout",
     "output_type": "stream",
     "text": [
      "MSE on the training set is:\n",
      "2.60496\n",
      "MSE on the test set is:\n",
      "13.91709\n"
     ]
    }
   ],
   "source": [
    "##Using another learning technique (Random Forrest Regressor) on our data##\n",
    "rfr = RandomForestRegressor(n_estimators=10, random_state=0)\n",
    "rfr.fit(X_train_refined, y_train)\n",
    "print (\"MSE on the training set is:\\n\"), mean_squared_error(y_train, rfr.predict(X_train_refined))\n",
    "print (\"MSE on the test set is:\\n\"), mean_squared_error(y_test, rfr.predict(X_test_refined))"
   ]
  },
  {
   "cell_type": "markdown",
   "metadata": {},
   "source": [
    "**As we can see, both of these models tend to overfit the training set. Linear Regressors/K Nearest Neighbor/Neural Networks yield the same performance and all tend to overfit as well. We will try two different method to overcome overfitting.**\n",
    "\n",
    "    1- We will try to use PCA to reduce the number of features\n",
    "    2- We will pick Random Forrest Regressor as our model and using the k-fold cross validation technique fine tune the parameters of the SVR."
   ]
  },
  {
   "cell_type": "code",
   "execution_count": 156,
   "metadata": {
    "collapsed": false
   },
   "outputs": [
    {
     "name": "stdout",
     "output_type": "stream",
     "text": [
      "With 50 features, 0.280985 of variance is preserved and the MSE on the test set is 37.761140\n",
      "With 100 features, 0.508647 of variance is preserved and the MSE on the test set is 36.271060\n",
      "With 150 features, 0.702114 of variance is preserved and the MSE on the test set is 36.428650\n",
      "With 200 features, 0.865518 of variance is preserved and the MSE on the test set is 35.243320\n"
     ]
    }
   ],
   "source": [
    "from sklearn.metrics import mean_squared_error\n",
    "##Trying PCA and reducing the number of features to 100/150/200 and checking if the performance on the test set improves##\n",
    "for n in [50,100,150,200]:\n",
    "    pca = PCA(n_components=n)\n",
    "    rfr.fit(pca.fit_transform(X_train_refined),y_train)\n",
    "    print \"With %d features, %f of variance is preserved and the MSE on the test set is %f\"%(n, pca.explained_variance_ratio_.sum(), \\\n",
    "                                                mean_squared_error(y_test, rfr.predict(pca.fit_transform(X_test_refined)))) \n"
   ]
  },
  {
   "cell_type": "markdown",
   "metadata": {},
   "source": [
    "**We can see that almost all of the columns are containing significant amount of variance/data and even using 200 features we are still losing around 15% of the data. Also the performance of our model doesn't improve by using less features and it still overfit. So, next we try to fine tune the parameters of our RFR model using a 5-fold cross-validation**"
   ]
  },
  {
   "cell_type": "code",
   "execution_count": 159,
   "metadata": {
    "collapsed": false
   },
   "outputs": [],
   "source": [
    "##trying different values for n_estimators parameters (number of trees in the forrest) and evaluating the performance \n",
    "#using a 5-folded cross validation on the training set##\n",
    "est_list=[10,20,50,100,200]\n",
    "score={}\n",
    "for est in est_list:\n",
    "    rfr = RandomForestRegressor(n_estimators=est, random_state=0)\n",
    "    rfr.fit(X_train_refined, y_train)\n",
    "    score[est]=cross_val_score(rfr, X_train_refined, y_train, cv=5).mean()"
   ]
  },
  {
   "cell_type": "code",
   "execution_count": 160,
   "metadata": {
    "collapsed": false
   },
   "outputs": [
    {
     "name": "stdout",
     "output_type": "stream",
     "text": [
      "the optimal value of n_estimators=200\n"
     ]
    }
   ],
   "source": [
    "##finding the optimal value of n_estimators##\n",
    "n_est=max(score.iteritems(), key=operator.itemgetter(1))[0]\n",
    "print \"the optimal value of n_estimators=%d\"%(n_est)"
   ]
  },
  {
   "cell_type": "code",
   "execution_count": 162,
   "metadata": {
    "collapsed": false
   },
   "outputs": [
    {
     "name": "stdout",
     "output_type": "stream",
     "text": [
      "score on the training set using optimal value of n_estimators is:\n",
      "1.79734879375\n",
      "score on the test set using optimal value of n_estimators is:\n",
      "13.111648625\n"
     ]
    }
   ],
   "source": [
    "##Using a Random Forest Regressor with the optimal C and epsilon parameters##\n",
    "rfr = RandomForestRegressor(n_estimators=n_est, random_state=0)\n",
    "rfr.fit(X_train_refined, y_train)\n",
    "print (\"score on the training set using optimal value of n_estimators is:\\n\"), mean_squared_error(y_train, rfr.predict(X_train_refined))\n",
    "print (\"score on the test set using optimal value of n_estimators is:\\n\"), mean_squared_error(y_test, rfr.predict(X_test_refined))"
   ]
  },
  {
   "cell_type": "code",
   "execution_count": 180,
   "metadata": {
    "collapsed": false
   },
   "outputs": [],
   "source": [
    "##predicting the target on the given test set and writing the output into a text file##\n",
    "final_test_DF=pd.read_csv('codetest_test.txt', delimiter='\\t')\n",
    "X_test_final_refined=data_refine(final_test_DF)\n",
    "predictions=rfr.predict(X_test_final_refined)\n",
    "f = open('predicted_target_test.txt', 'w')\n",
    "for pre in predictions:\n",
    "    f.writelines(str(pre)+'\\n')\n",
    "f.close()"
   ]
  }
 ],
 "metadata": {
  "kernelspec": {
   "display_name": "Python 2",
   "language": "python",
   "name": "python2"
  }
 },
 "nbformat": 4,
 "nbformat_minor": 0
}
