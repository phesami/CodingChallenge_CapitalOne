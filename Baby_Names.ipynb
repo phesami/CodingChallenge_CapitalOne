{
 "cells": [
  {
   "cell_type": "code",
   "execution_count": 1,
   "metadata": {
    "collapsed": false
   },
   "outputs": [
    {
     "name": "stdout",
     "output_type": "stream",
     "text": [
      "Populating the interactive namespace from numpy and matplotlib\n"
     ]
    }
   ],
   "source": [
    "##importing the required libraries##\n",
    "import pandas as pd\n",
    "import numpy as np\n",
    "import glob\n",
    "import matplotlib.pyplot as plt\n",
    "%pylab inline"
   ]
  },
  {
   "cell_type": "code",
   "execution_count": 2,
   "metadata": {
    "collapsed": false
   },
   "outputs": [
    {
     "data": {
      "text/html": [
       "<div>\n",
       "<table border=\"1\" class=\"dataframe\">\n",
       "  <thead>\n",
       "    <tr style=\"text-align: right;\">\n",
       "      <th></th>\n",
       "      <th>State</th>\n",
       "      <th>Sex</th>\n",
       "      <th>Year Born</th>\n",
       "      <th>Name</th>\n",
       "      <th>Name Frequency</th>\n",
       "    </tr>\n",
       "  </thead>\n",
       "  <tbody>\n",
       "    <tr>\n",
       "      <th>0</th>\n",
       "      <td>AK</td>\n",
       "      <td>F</td>\n",
       "      <td>1910</td>\n",
       "      <td>Mary</td>\n",
       "      <td>14</td>\n",
       "    </tr>\n",
       "    <tr>\n",
       "      <th>1</th>\n",
       "      <td>AK</td>\n",
       "      <td>F</td>\n",
       "      <td>1910</td>\n",
       "      <td>Annie</td>\n",
       "      <td>12</td>\n",
       "    </tr>\n",
       "    <tr>\n",
       "      <th>2</th>\n",
       "      <td>AK</td>\n",
       "      <td>F</td>\n",
       "      <td>1910</td>\n",
       "      <td>Anna</td>\n",
       "      <td>10</td>\n",
       "    </tr>\n",
       "    <tr>\n",
       "      <th>3</th>\n",
       "      <td>AK</td>\n",
       "      <td>F</td>\n",
       "      <td>1910</td>\n",
       "      <td>Margaret</td>\n",
       "      <td>8</td>\n",
       "    </tr>\n",
       "    <tr>\n",
       "      <th>4</th>\n",
       "      <td>AK</td>\n",
       "      <td>F</td>\n",
       "      <td>1910</td>\n",
       "      <td>Helen</td>\n",
       "      <td>7</td>\n",
       "    </tr>\n",
       "  </tbody>\n",
       "</table>\n",
       "</div>"
      ],
      "text/plain": [
       "  State Sex  Year Born      Name  Name Frequency\n",
       "0    AK   F       1910      Mary              14\n",
       "1    AK   F       1910     Annie              12\n",
       "2    AK   F       1910      Anna              10\n",
       "3    AK   F       1910  Margaret               8\n",
       "4    AK   F       1910     Helen               7"
      ]
     },
     "execution_count": 2,
     "metadata": {},
     "output_type": "execute_result"
    }
   ],
   "source": [
    "train_DF_AK=pd.read_csv('namesbystate/AK.txt', delimiter=',', names=['State','Sex','Year Born','Name','Name Frequency'])\n",
    "train_DF_AK.head()"
   ]
  },
  {
   "cell_type": "markdown",
   "metadata": {},
   "source": [
    "1.  Please describe the format of the data files. Can you identify any \n",
    "    limitations or distortions of the data? \n",
    "\n",
    "**The list of names for each states is a comma delimited text file which 5 columns describing the State, Sex, Year Born, Names, and Name Frequency**"
   ]
  },
  {
   "cell_type": "code",
   "execution_count": 3,
   "metadata": {
    "collapsed": false
   },
   "outputs": [],
   "source": [
    "##Creating a big DataFrame (train_DF_popular) containing the data from all states##\n",
    "train_DF_all=pd.DataFrame()\n",
    "for fil in glob.glob('./namesbystate/*.TXT'):\n",
    "     train_DF_all=train_DF_all.append(pd.read_csv(fil, delimiter=',', names=['State','Sex','Year Born','Name',\\\n",
    "                                                     'Name Frequency']), ignore_index=True)"
   ]
  },
  {
   "cell_type": "code",
   "execution_count": 12,
   "metadata": {
    "collapsed": false
   },
   "outputs": [
    {
     "ename": "SyntaxError",
     "evalue": "invalid syntax (<ipython-input-12-39e00ca9d012>, line 3)",
     "output_type": "error",
     "traceback": [
      "\u001b[1;36m  File \u001b[1;32m\"<ipython-input-12-39e00ca9d012>\"\u001b[1;36m, line \u001b[1;32m3\u001b[0m\n\u001b[1;33m    print \"The most popular name of all time is:\", train_DF_total_freq.idxmax(),'\\n','With total count of:',train_DF_total_freq.ix[train_DF_total_freq.idxmax()]\u001b[0m\n\u001b[1;37m                                                ^\u001b[0m\n\u001b[1;31mSyntaxError\u001b[0m\u001b[1;31m:\u001b[0m invalid syntax\n"
     ]
    }
   ],
   "source": [
    "##Grouping by Name and couting the total frequency for each name to find the most popular name##\n",
    "train_DF_total_freq=train_DF_all.groupby('Name').sum()['Name Frequency']\n",
    "print \"The most popular name of all time is:\", train_DF_total_freq.idxmax(),'\\n','With total count of:',\\\n",
    "train_DF_total_freq.ix[train_DF_total_freq.idxmax()]"
   ]
  },
  {
   "cell_type": "markdown",
   "metadata": {},
   "source": [
    "What is the most popular name of all time? (Of either gender.)\n",
    "\n",
    "The most popular name of all time is: **James** With total count of **4957166**"
   ]
  },
  {
   "cell_type": "code",
   "execution_count": 9,
   "metadata": {
    "collapsed": false
   },
   "outputs": [
    {
     "name": "stdout",
     "output_type": "stream",
     "text": [
      "Emma\n",
      "20911\n"
     ]
    }
   ],
   "source": [
    "female_names=pd.DataFrame(train_DF_all.ix[train_DF_all['Year Born']==2013]\\\n",
    "                          .groupby(['Sex','Name']).sum()['Name Frequency'].ix['F'])\n",
    "male_names=pd.DataFrame(train_DF_all.ix[train_DF_all['Year Born']==2013]\\\n",
    "                        .groupby(['Sex','Name']).sum()['Name Frequency'].ix['M'])\n",
    "male_female_inner_join=pd.concat([female_names, male_names], axis=1, join='inner')\n",
    "print \"The most gender ambiguos name in 2013 is:\", male_female_inner_join.sum(axis=1).idxmax()\n",
    "print male_female_inner_join.sum(axis=1).max()"
   ]
  },
  {
   "cell_type": "code",
   "execution_count": 10,
   "metadata": {
    "collapsed": false
   },
   "outputs": [
    {
     "name": "stdout",
     "output_type": "stream",
     "text": [
      "James\n",
      "74755\n"
     ]
    }
   ],
   "source": [
    "female_names=pd.DataFrame(train_DF_all.ix[train_DF_all['Year Born']==1945]\\\n",
    "                          .groupby(['Sex','Name']).sum()['Name Frequency'].ix['F'])\n",
    "male_names=pd.DataFrame(train_DF_all.ix[train_DF_all['Year Born']==1945]\\\n",
    "                        .groupby(['Sex','Name']).sum()['Name Frequency'].ix['M'])\n",
    "male_female_inner_join=pd.concat([female_names, male_names], axis=1, join='inner')\n",
    "print \"The most gender ambiguos name in 1945 is:\", male_female_inner_join.sum(axis=1).idxmax()\n",
    "print male_female_inner_join.sum(axis=1).max()"
   ]
  },
  {
   "cell_type": "markdown",
   "metadata": {},
   "source": [
    "3.  What is the most gender ambiguous name in 2013? 1945?\n",
    "\n",
    "The most gender ambiguos name in 2013 is: **Emma** With total count of **20881**\n",
    "\n",
    "The most gender ambiguos name in 1945 is: **James** With total count of **74651**"
   ]
  },
  {
   "cell_type": "code",
   "execution_count": 92,
   "metadata": {
    "collapsed": false
   },
   "outputs": [
    {
     "name": "stdout",
     "output_type": "stream",
     "text": [
      "Colton has had the largest increase of 126840 percent\n"
     ]
    }
   ],
   "source": [
    "names_1980 = pd.DataFrame(train_DF_all.ix[train_DF_all['Year Born']==1980].groupby('Name').sum()['Name Frequency'])\n",
    "names_2014 = pd.DataFrame(train_DF_all.ix[train_DF_all['Year Born']==2014].groupby('Name').sum()['Name Frequency'])\n",
    "names_1980_2014 = pd.merge(names_1980, names_2014, left_index=True, right_index=True, \\\n",
    "                           suffixes=['_1980', '_2014'], how='inner')\n",
    "names_1980_2014['names_rate_increase']=100*(names_1980_2014['Name Frequency_2014']-\\\n",
    "                                    names_1980_2014['Name Frequency_1980'])/(names_1980_2014['Name Frequency_1980'])\n",
    "largest_increase = names_1980_2014.ix[names_1980_2014['names_rate_increase'].idxmax()]\n",
    "print \"%s has had the largest increase of %d percent\" %(names_1980_2014['names_rate_increase'].idxmax(),\\\n",
    "                                                        largest_increase['names_rate_increase'])"
   ]
  },
  {
   "cell_type": "code",
   "execution_count": 95,
   "metadata": {
    "collapsed": false
   },
   "outputs": [
    {
     "name": "stdout",
     "output_type": "stream",
     "text": [
      "Latoya has had the largest decrease of 49500.000000 percent\n"
     ]
    }
   ],
   "source": [
    "names_1980_2014['names_rate_decrease']=100*(names_1980_2014['Name Frequency_1980']-\\\n",
    "                                    names_1980_2014['Name Frequency_2014'])/(names_1980_2014['Name Frequency_2014'])\n",
    "largest_decrease = names_1980_2014.ix[names_1980_2014['names_rate_decrease'].idxmax()]\n",
    "print \"%s has had the largest decrease of %f percent\" %(names_1980_2014['names_rate_decrease']\\\n",
    "                                                        .idxmax(),largest_decrease['names_rate_decrease'])"
   ]
  },
  {
   "cell_type": "markdown",
   "metadata": {},
   "source": [
    "Of the names represented in the data, find the name that has had the largest \n",
    "    percentage increase in popularity since 1980. Largest decrease?\n",
    "    \n",
    "**Colton** has had the largest increase of **126840%**\n",
    "\n",
    "**Latoya** has had the largest decrease of **49500%**\n"
   ]
  },
  {
   "cell_type": "markdown",
   "metadata": {},
   "source": [
    "Can you identify names that may have had an even larger increase or decrease \n",
    "    in popularity?\n",
    "    \n",
    "**If we include the names that has had 0 count in one of the years (2014 or 1980), we can recalculate the increase/decrease in popularity and get even larger increase/decrease as follows**"
   ]
  },
  {
   "cell_type": "code",
   "execution_count": 100,
   "metadata": {
    "collapsed": false
   },
   "outputs": [
    {
     "name": "stdout",
     "output_type": "stream",
     "text": [
      "Jayden has had the largest increase of 1342900 percent\n"
     ]
    }
   ],
   "source": [
    "names_1980 = pd.DataFrame(train_DF_all.ix[train_DF_all['Year Born']==1980].groupby('Name').sum()['Name Frequency'])\n",
    "names_2014 = pd.DataFrame(train_DF_all.ix[train_DF_all['Year Born']==2014].groupby('Name').sum()['Name Frequency'])\n",
    "names_1980_2014 = pd.merge(names_1980, names_2014, left_index=True, right_index=True, \\\n",
    "                           suffixes=['_1980', '_2014'], how='outer').fillna(0)\n",
    "names_1980_2014['names_rate_increase']=100*(names_1980_2014['Name Frequency_2014']-\\\n",
    "                                    names_1980_2014['Name Frequency_1980'])/(1+names_1980_2014['Name Frequency_1980'])\n",
    "largest_increase = names_1980_2014.ix[names_1980_2014['names_rate_increase'].idxmax()]\n",
    "print \"%s has had even larger increase of %d percent\" %(names_1980_2014['names_rate_increase']\\\n",
    "                                                        .idxmax(),largest_increase['names_rate_increase'])"
   ]
  },
  {
   "cell_type": "code",
   "execution_count": 101,
   "metadata": {
    "collapsed": false
   },
   "outputs": [
    {
     "name": "stdout",
     "output_type": "stream",
     "text": [
      "Tonya has had the largest decrease of 308100.000000 percent\n"
     ]
    }
   ],
   "source": [
    "names_1980_2014['names_rate_decrease']=100*(names_1980_2014['Name Frequency_1980']-\\\n",
    "                                    names_1980_2014['Name Frequency_2014'])/(1+names_1980_2014['Name Frequency_2014'])\n",
    "largest_decrease = names_1980_2014.ix[names_1980_2014['names_rate_decrease'].idxmax()]\n",
    "print \"%s has had even larger decrease of %f percent\" %(names_1980_2014['names_rate_decrease']\\\n",
    "                                                        .idxmax(),largest_decrease['names_rate_decrease'])"
   ]
  },
  {
   "cell_type": "markdown",
   "metadata": {},
   "source": [
    "B) Onward to Insight!\n",
    "What insight can you extract from this dataset? Feel free to combine the baby \n",
    "names data with other publicly available datasets or APIs, but be sure to include \n",
    "code for accessing any alternative data that you use.\n",
    "This is an open-ended question and you are free to answer as you see fit. In \n",
    "fact, we would love it if you find an interesting way to look at the data that \n",
    "we haven't thought of! \n",
    "\n",
    "**One observation I had was that the increase/decrease of popularity of the babiy names seem to have a very strong correlation with what's happening in the world. For example:**\n",
    "\n",
    "There is a sharp popularity increase in the name \"Neil\" in 1969-1972 after Neil Armstrong stepped on the moon in 1969!"
   ]
  },
  {
   "cell_type": "code",
   "execution_count": 179,
   "metadata": {
    "collapsed": false
   },
   "outputs": [
    {
     "data": {
      "text/plain": [
       "<matplotlib.collections.PathCollection at 0x125fa9410>"
      ]
     },
     "execution_count": 179,
     "metadata": {},
     "output_type": "execute_result"
    },
    {
     "data": {
      "image/png": "[encoded data removed]",
      "text/plain": [
       "<matplotlib.figure.Figure at 0x106b47f90>"
      ]
     },
     "metadata": {},
     "output_type": "display_data"
    }
   ],
   "source": [
    "plt.scatter(train_DF_all.ix[train_DF_all['Name']=='Neil'].groupby(['Year Born']).sum().ix[1960:1990].index,\\\n",
    "            train_DF_all.ix[train_DF_all['Name']=='Neil'].groupby(['Year Born']).sum().ix[1960:1990]['Name Frequency'])"
   ]
  },
  {
   "cell_type": "markdown",
   "metadata": {},
   "source": [
    "One more observation I had was assuming the life expectancy of 80 years in USA (http://www.huffingtonpost.com/2013/11/21/us-life-expectancy-oecd_n_4317367.html) we can predict the age of a person by the average age of the people who has the same name and are born after $2014-80= 1934$\n",
    "\n",
    "The everaging can be done in a weighted average fashion. i.e., \n",
    "$$\n",
    "Predicted\\_Average\\_Age =\\frac{\\Sigma (Age*Name\\_Frequency)}{\\Sigma(Name\\_Frequency)}\n",
    "$$\n",
    "\n",
    "Where \n",
    "$$\n",
    "age=2014-Year Born\n",
    "$$\n",
    "\n",
    "It is crucial to calculate the weighted variance/standard deviation as well to get more confidence in the average age estimation:\n",
    "$$\n",
    "Standard\\_Devidation\\_Age=\\sqrt(\\frac{\\Sigma Name\\_Frequency*(Age-Predicted\\_Average\\_Age)^2}{\\Sigma(Name\\_Frequency)})\n",
    "$$\n",
    "The following function looks at the data from 1934 to 2014 and derive the weighted average and weighted variance for each given name"
   ]
  },
  {
   "cell_type": "code",
   "execution_count": 96,
   "metadata": {
    "collapsed": false
   },
   "outputs": [],
   "source": [
    "def age_predictor (name):\n",
    "    age_DF=train_DF_all.ix[train_DF_all['Name']==name].groupby(['Year Born']).sum().ix[1934:]\n",
    "    age_DF=age_DF.reset_index()\n",
    "    age_DF['age']=pd.DataFrame(2014-age_DF['Year Born'])\n",
    "    age_DF['Weighted Age']=age_DF['age']*age_DF['Name Frequency']\n",
    "    age_DF_mean=age_DF['Weighted Age'].sum()/(age_DF['Name Frequency'].sum())\n",
    "    age_DF['Weighted (Age-Mean)^2']=pow((age_DF['age']-age_DF_mean),2)*age_DF['Name Frequency']\n",
    "    age_DF_std=sqrt((age_DF['Weighted (Age-Mean)^2'].sum())/(age_DF['Name Frequency'].sum()))\n",
    "    return age_DF_mean, age_DF_std"
   ]
  },
  {
   "cell_type": "markdown",
   "metadata": {},
   "source": [
    "For example the average and variance of the age of a person named \"Neil\" can be calculated as below:"
   ]
  },
  {
   "cell_type": "code",
   "execution_count": 97,
   "metadata": {
    "collapsed": false
   },
   "outputs": [
    {
     "ename": "SyntaxError",
     "evalue": "invalid syntax (<ipython-input-97-a48290dca3ce>, line 2)",
     "output_type": "error",
     "traceback": [
      "\u001b[1;36m  File \u001b[1;32m\"<ipython-input-97-a48290dca3ce>\"\u001b[1;36m, line \u001b[1;32m2\u001b[0m\n\u001b[1;33m    print \"Neil Predicted Age is %f with Variance %f\" %(Neil_mean, Neil_Variance)\u001b[0m\n\u001b[1;37m                                                    ^\u001b[0m\n\u001b[1;31mSyntaxError\u001b[0m\u001b[1;31m:\u001b[0m invalid syntax\n"
     ]
    }
   ],
   "source": [
    "Neil_mean, Neil_Variance = age_predictor ('Neil')\n",
    "print \"Neil Predicted Age is %f with Variance %f\" %(Neil_mean, Neil_Variance)"
   ]
  },
  {
   "cell_type": "markdown",
   "metadata": {},
   "source": [
    "Also looking at the average age of people named **Latoya** and **Colton** we can see that the average age of \"Latoya\" is much higher than \"Colton\" which is inline with their popularity decrease and increase, respectively."
   ]
  },
  {
   "cell_type": "code",
   "execution_count": 98,
   "metadata": {
    "collapsed": false
   },
   "outputs": [
    {
     "data": {
      "text/plain": [
       "(31.327351302172183, 4.9164213519151883)"
      ]
     },
     "execution_count": 98,
     "metadata": {},
     "output_type": "execute_result"
    }
   ],
   "source": [
    "age_predictor ('Latoya')"
   ]
  },
  {
   "cell_type": "code",
   "execution_count": 99,
   "metadata": {
    "collapsed": false
   },
   "outputs": [
    {
     "data": {
      "text/plain": [
       "(10.608100120258454, 7.8101360740412877)"
      ]
     },
     "execution_count": 99,
     "metadata": {},
     "output_type": "execute_result"
    }
   ],
   "source": [
    "age_predictor ('Colton')"
   ]
  },
  {
   "cell_type": "code",
   "execution_count": 100,
   "metadata": {
    "collapsed": false
   },
   "outputs": [
    {
     "data": {
      "text/plain": [
       "(40.50350725140117, 27.970433399790732)"
      ]
     },
     "execution_count": 100,
     "metadata": {},
     "output_type": "execute_result"
    }
   ],
   "source": [
    "age_predictor ('Jack')"
   ]
  },
  {
   "cell_type": "code",
   "execution_count": null,
   "metadata": {
    "collapsed": true
   },
   "outputs": [],
   "source": []
  }
 ],
 "metadata": {
  "kernelspec": {
   "display_name": "Python 3",
   "language": "python",
   "name": "python3"
  },
  "language_info": {
   "codemirror_mode": {
    "name": "ipython",
    "version": 3
   },
   "file_extension": ".py",
   "mimetype": "text/x-python",
   "name": "python",
   "nbconvert_exporter": "python",
   "pygments_lexer": "ipython3",
   "version": "3.5.1"
  }
 },
 "nbformat": 4,
 "nbformat_minor": 0
}
