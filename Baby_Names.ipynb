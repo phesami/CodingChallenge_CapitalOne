{
 "cells": [
  {
   "cell_type": "code",
   "execution_count": 117,
   "metadata": {
    "collapsed": false
   },
   "outputs": [
    {
     "name": "stdout",
     "output_type": "stream",
     "text": [
      "Populating the interactive namespace from numpy and matplotlib\n"
     ]
    }
   ],
   "source": [
    "import pandas as pd\n",
    "import numpy as np\n",
    "import glob\n",
    "import matplotlib.pyplot as plt\n",
    "%pylab inline"
   ]
  },
  {
   "cell_type": "code",
   "execution_count": 2,
   "metadata": {
    "collapsed": false
   },
   "outputs": [
    {
     "data": {
      "text/html": [
       "<div>\n",
       "<table border=\"1\" class=\"dataframe\">\n",
       "  <thead>\n",
       "    <tr style=\"text-align: right;\">\n",
       "      <th></th>\n",
       "      <th>State</th>\n",
       "      <th>Sex</th>\n",
       "      <th>Year Born</th>\n",
       "      <th>Name</th>\n",
       "      <th>Name Frequency</th>\n",
       "    </tr>\n",
       "  </thead>\n",
       "  <tbody>\n",
       "    <tr>\n",
       "      <th>0</th>\n",
       "      <td>AK</td>\n",
       "      <td>F</td>\n",
       "      <td>1910</td>\n",
       "      <td>Mary</td>\n",
       "      <td>14</td>\n",
       "    </tr>\n",
       "    <tr>\n",
       "      <th>1</th>\n",
       "      <td>AK</td>\n",
       "      <td>F</td>\n",
       "      <td>1910</td>\n",
       "      <td>Annie</td>\n",
       "      <td>12</td>\n",
       "    </tr>\n",
       "    <tr>\n",
       "      <th>2</th>\n",
       "      <td>AK</td>\n",
       "      <td>F</td>\n",
       "      <td>1910</td>\n",
       "      <td>Anna</td>\n",
       "      <td>10</td>\n",
       "    </tr>\n",
       "    <tr>\n",
       "      <th>3</th>\n",
       "      <td>AK</td>\n",
       "      <td>F</td>\n",
       "      <td>1910</td>\n",
       "      <td>Margaret</td>\n",
       "      <td>8</td>\n",
       "    </tr>\n",
       "    <tr>\n",
       "      <th>4</th>\n",
       "      <td>AK</td>\n",
       "      <td>F</td>\n",
       "      <td>1910</td>\n",
       "      <td>Helen</td>\n",
       "      <td>7</td>\n",
       "    </tr>\n",
       "  </tbody>\n",
       "</table>\n",
       "</div>"
      ],
      "text/plain": [
       "  State Sex  Year Born      Name  Name Frequency\n",
       "0    AK   F       1910      Mary              14\n",
       "1    AK   F       1910     Annie              12\n",
       "2    AK   F       1910      Anna              10\n",
       "3    AK   F       1910  Margaret               8\n",
       "4    AK   F       1910     Helen               7"
      ]
     },
     "execution_count": 2,
     "metadata": {},
     "output_type": "execute_result"
    }
   ],
   "source": [
    "train_DF_AK=pd.read_csv('namesbystate/AK.txt', delimiter=',', names=['State','Sex','Year Born','Name','Name Frequency'])\n",
    "train_DF_AK.head()"
   ]
  },
  {
   "cell_type": "markdown",
   "metadata": {},
   "source": [
    "1.  Please describe the format of the data files. Can you identify any \n",
    "    limitations or distortions of the data? \n",
    "\n",
    "**The list of names for each states is a comma delimited text file which 5 columns describing the State, Sex, Year Born, Names, and Name Frequency**"
   ]
  },
  {
   "cell_type": "code",
   "execution_count": 7,
   "metadata": {
    "collapsed": false
   },
   "outputs": [],
   "source": [
    "##Creating a big DataFrame (train_DF_popular) containing the data from all states##\n",
    "train_DF_all=pd.DataFrame()\n",
    "for fil in glob.glob('./namesbystate/*.TXT'):\n",
    "     train_DF_all=train_DF_popular.append(pd.read_csv(fil, delimiter=',', names=['State','Sex','Year Born','Name',\\\n",
    "                                                                                     'Name Frequency']), ignore_index=True)"
   ]
  },
  {
   "cell_type": "code",
   "execution_count": 8,
   "metadata": {
    "collapsed": false
   },
   "outputs": [
    {
     "name": "stdout",
     "output_type": "stream",
     "text": [
      "The most popular name of all time is: James \n",
      "With total count of: 4965188\n"
     ]
    }
   ],
   "source": [
    "##Grouping by Name and couting the total frequency for each name to find the most popular name##\n",
    "train_DF_total_freq=train_DF_all.groupby('Name').sum()['Name Frequency']\n",
    "print \"The most popular name of all time is:\", train_DF_total_freq.idxmax(),'\\n','With total count of:',\\\n",
    "train_DF_total_freq.ix[train_DF_total_freq.idxmax()]"
   ]
  },
  {
   "cell_type": "markdown",
   "metadata": {},
   "source": [
    "What is the most popular name of all time? (Of either gender.)\n",
    "\n",
    "The most popular name of all time is: **James** With total count of **4957166**"
   ]
  },
  {
   "cell_type": "code",
   "execution_count": 9,
   "metadata": {
    "collapsed": false
   },
   "outputs": [
    {
     "name": "stdout",
     "output_type": "stream",
     "text": [
      "Emma\n",
      "20911\n"
     ]
    }
   ],
   "source": [
    "female_names=pd.DataFrame(train_DF_all.ix[train_DF_all['Year Born']==2013].groupby(['Sex','Name']).sum()['Name Frequency'].ix['F'])\n",
    "male_names=pd.DataFrame(train_DF_all.ix[train_DF_all['Year Born']==2013].groupby(['Sex','Name']).sum()['Name Frequency'].ix['M'])\n",
    "male_female_inner_join=pd.concat([female_names, male_names], axis=1, join='inner')\n",
    "print male_female_inner_join.sum(axis=1).idxmax()\n",
    "print male_female_inner_join.sum(axis=1).max()"
   ]
  },
  {
   "cell_type": "code",
   "execution_count": 10,
   "metadata": {
    "collapsed": false
   },
   "outputs": [
    {
     "name": "stdout",
     "output_type": "stream",
     "text": [
      "James\n",
      "74755\n"
     ]
    }
   ],
   "source": [
    "female_names=pd.DataFrame(train_DF_all.ix[train_DF_all['Year Born']==1945].groupby(['Sex','Name']).sum()['Name Frequency'].ix['F'])\n",
    "male_names=pd.DataFrame(train_DF_all.ix[train_DF_all['Year Born']==1945].groupby(['Sex','Name']).sum()['Name Frequency'].ix['M'])\n",
    "male_female_inner_join=pd.concat([female_names, male_names], axis=1, join='inner')\n",
    "print male_female_inner_join.sum(axis=1).idxmax()\n",
    "print male_female_inner_join.sum(axis=1).max()"
   ]
  },
  {
   "cell_type": "markdown",
   "metadata": {},
   "source": [
    "3.  What is the most gender ambiguous name in 2013? 1945?\n",
    "\n",
    "The most gender ambiguos name in 2013 is: **Emma** With total count of **20881**\n",
    "\n",
    "The most gender ambiguos name in 1945 is: **James** With total count of **74651**"
   ]
  },
  {
   "cell_type": "code",
   "execution_count": 13,
   "metadata": {
    "collapsed": false
   },
   "outputs": [
    {
     "data": {
      "text/plain": [
       "2014"
      ]
     },
     "execution_count": 13,
     "metadata": {},
     "output_type": "execute_result"
    }
   ],
   "source": [
    "train_DF_all['Year Born'].max()"
   ]
  },
  {
   "cell_type": "code",
   "execution_count": 92,
   "metadata": {
    "collapsed": false
   },
   "outputs": [
    {
     "name": "stdout",
     "output_type": "stream",
     "text": [
      "Colton has had the largest increase of 126840 percent\n"
     ]
    }
   ],
   "source": [
    "names_1980 = pd.DataFrame(train_DF_all.ix[train_DF_all['Year Born']==1980].groupby('Name').sum()['Name Frequency'])\n",
    "names_2014 = pd.DataFrame(train_DF_all.ix[train_DF_all['Year Born']==2014].groupby('Name').sum()['Name Frequency'])\n",
    "names_1980_2014 = pd.merge(names_1980, names_2014, left_index=True, right_index=True, suffixes=['_1980', '_2014'], how='inner')\n",
    "names_1980_2014['names_rate_increase']=100*(names_1980_2014['Name Frequency_2014']-names_1980_2014['Name Frequency_1980'])/\\\n",
    "                                    (names_1980_2014['Name Frequency_1980'])\n",
    "largest_increase = names_1980_2014.ix[names_1980_2014['names_rate_increase'].idxmax()]\n",
    "print \"%s has had the largest increase of %d percent\" %(names_1980_2014['names_rate_increase'].idxmax(),largest_increase['names_rate_increase'])"
   ]
  },
  {
   "cell_type": "code",
   "execution_count": 95,
   "metadata": {
    "collapsed": false
   },
   "outputs": [
    {
     "name": "stdout",
     "output_type": "stream",
     "text": [
      "Latoya has had the largest decrease of 49500.000000 percent\n"
     ]
    }
   ],
   "source": [
    "names_1980_2014['names_rate_decrease']=100*(names_1980_2014['Name Frequency_1980']-names_1980_2014['Name Frequency_2014'])/\\\n",
    "                                    (names_1980_2014['Name Frequency_2014'])\n",
    "largest_decrease = names_1980_2014.ix[names_1980_2014['names_rate_decrease'].idxmax()]\n",
    "print \"%s has had the largest decrease of %f percent\" %(names_1980_2014['names_rate_decrease'].idxmax(),largest_decrease['names_rate_decrease'])"
   ]
  },
  {
   "cell_type": "markdown",
   "metadata": {},
   "source": [
    "Of the names represented in the data, find the name that has had the largest \n",
    "    percentage increase in popularity since 1980. Largest decrease?\n",
    "    \n",
    "**Colton** has had the largest increase of **126840%**\n",
    "\n",
    "**Latoya** has had the largest decrease of **49500%**\n"
   ]
  },
  {
   "cell_type": "markdown",
   "metadata": {},
   "source": [
    "Can you identify names that may have had an even larger increase or decrease \n",
    "    in popularity?"
   ]
  },
  {
   "cell_type": "code",
   "execution_count": 100,
   "metadata": {
    "collapsed": false
   },
   "outputs": [
    {
     "name": "stdout",
     "output_type": "stream",
     "text": [
      "Jayden has had the largest increase of 1342900 percent\n"
     ]
    }
   ],
   "source": [
    "names_1980 = pd.DataFrame(train_DF_all.ix[train_DF_all['Year Born']==1980].groupby('Name').sum()['Name Frequency'])\n",
    "names_2014 = pd.DataFrame(train_DF_all.ix[train_DF_all['Year Born']==2014].groupby('Name').sum()['Name Frequency'])\n",
    "names_1980_2014 = pd.merge(names_1980, names_2014, left_index=True, right_index=True, suffixes=['_1980', '_2014'], how='outer').fillna(0)\n",
    "names_1980_2014['names_rate_increase']=100*(names_1980_2014['Name Frequency_2014']-names_1980_2014['Name Frequency_1980'])/\\\n",
    "                                    (1+names_1980_2014['Name Frequency_1980'])\n",
    "largest_increase = names_1980_2014.ix[names_1980_2014['names_rate_increase'].idxmax()]\n",
    "print \"%s has had the largest increase of %d percent\" %(names_1980_2014['names_rate_increase'].idxmax(),largest_increase['names_rate_increase'])"
   ]
  },
  {
   "cell_type": "code",
   "execution_count": 101,
   "metadata": {
    "collapsed": false
   },
   "outputs": [
    {
     "name": "stdout",
     "output_type": "stream",
     "text": [
      "Tonya has had the largest decrease of 308100.000000 percent\n"
     ]
    }
   ],
   "source": [
    "names_1980_2014['names_rate_decrease']=100*(names_1980_2014['Name Frequency_1980']-names_1980_2014['Name Frequency_2014'])/\\\n",
    "                                    (1+names_1980_2014['Name Frequency_2014'])\n",
    "largest_decrease = names_1980_2014.ix[names_1980_2014['names_rate_decrease'].idxmax()]\n",
    "print \"%s has had the largest decrease of %f percent\" %(names_1980_2014['names_rate_decrease'].idxmax(),largest_decrease['names_rate_decrease'])"
   ]
  },
  {
   "cell_type": "code",
   "execution_count": 119,
   "metadata": {
    "collapsed": false
   },
   "outputs": [
    {
     "data": {
      "text/plain": [
       "<matplotlib.collections.PathCollection at 0x10d492990>"
      ]
     },
     "execution_count": 119,
     "metadata": {},
     "output_type": "execute_result"
    },
    {
     "data": {
      "image/png": "[encoded data removed]",
      "text/plain": [
       "<matplotlib.figure.Figure at 0x1071e9890>"
      ]
     },
     "metadata": {},
     "output_type": "display_data"
    }
   ],
   "source": [
    "plt.scatter(train_DF_all.ix[train_DF_all['Name']=='Latoya'].groupby(['Year Born']).sum().index,\\\n",
    "            train_DF_all.ix[train_DF_all['Name']=='Latoya'].groupby(['Year Born']).sum()['Name Frequency'])"
   ]
  },
  {
   "cell_type": "code",
   "execution_count": 123,
   "metadata": {
    "collapsed": false
   },
   "outputs": [
    {
     "data": {
      "text/plain": [
       "<matplotlib.collections.PathCollection at 0x107704350>"
      ]
     },
     "execution_count": 123,
     "metadata": {},
     "output_type": "execute_result"
    },
    {
     "data": {
      "image/png": "[encoded data removed]",
      "text/plain": [
       "<matplotlib.figure.Figure at 0x1186b0850>"
      ]
     },
     "metadata": {},
     "output_type": "display_data"
    }
   ],
   "source": [
    "plt.scatter(train_DF_all.ix[train_DF_all['Name']=='Victoria'].groupby(['Year Born']).sum().index,\\\n",
    "            train_DF_all.ix[train_DF_all['Name']=='Victoria'].groupby(['Year Born']).sum()['Name Frequency'])"
   ]
  },
  {
   "cell_type": "code",
   "execution_count": 122,
   "metadata": {
    "collapsed": false
   },
   "outputs": [
    {
     "data": {
      "text/plain": [
       "<matplotlib.collections.PathCollection at 0x118793550>"
      ]
     },
     "execution_count": 122,
     "metadata": {},
     "output_type": "execute_result"
    },
    {
     "data": {
      "image/png": "[encoded data removed]",
      "text/plain": [
       "<matplotlib.figure.Figure at 0x10d411c10>"
      ]
     },
     "metadata": {},
     "output_type": "display_data"
    }
   ],
   "source": [
    "plt.scatter(train_DF_all.ix[train_DF_all['Name']=='Colton'].groupby(['Year Born']).sum().index,\\\n",
    "            train_DF_all.ix[train_DF_all['Name']=='Colton'].groupby(['Year Born']).sum()['Name Frequency'])"
   ]
  },
  {
   "cell_type": "code",
   "execution_count": null,
   "metadata": {
    "collapsed": true
   },
   "outputs": [],
   "source": []
  }
 ],
 "metadata": {
  "kernelspec": {
   "display_name": "Python 2",
   "language": "python",
   "name": "python2"
  },
  "language_info": {
   "codemirror_mode": {
    "name": "ipython",
    "version": 2
   },
   "file_extension": ".py",
   "mimetype": "text/x-python",
   "name": "python",
   "nbconvert_exporter": "python",
   "pygments_lexer": "ipython2",
   "version": "2.7.10"
  }
 },
 "nbformat": 4,
 "nbformat_minor": 0
}
