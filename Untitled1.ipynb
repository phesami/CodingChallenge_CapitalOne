{
 "cells": [
  {
   "cell_type": "code",
   "execution_count": 38,
   "metadata": {
    "collapsed": false
   },
   "outputs": [],
   "source": [
    "import pandas as pd\n",
    "import numpy as np\n",
    "import glob"
   ]
  },
  {
   "cell_type": "code",
   "execution_count": 16,
   "metadata": {
    "collapsed": false
   },
   "outputs": [
    {
     "data": {
      "text/html": [
       "<div>\n",
       "<table border=\"1\" class=\"dataframe\">\n",
       "  <thead>\n",
       "    <tr style=\"text-align: right;\">\n",
       "      <th></th>\n",
       "      <th>State</th>\n",
       "      <th>Sex</th>\n",
       "      <th>Year Born</th>\n",
       "      <th>Name</th>\n",
       "      <th>Name Frequency</th>\n",
       "    </tr>\n",
       "  </thead>\n",
       "  <tbody>\n",
       "    <tr>\n",
       "      <th>0</th>\n",
       "      <td>AK</td>\n",
       "      <td>F</td>\n",
       "      <td>1910</td>\n",
       "      <td>Mary</td>\n",
       "      <td>14</td>\n",
       "    </tr>\n",
       "    <tr>\n",
       "      <th>1</th>\n",
       "      <td>AK</td>\n",
       "      <td>F</td>\n",
       "      <td>1910</td>\n",
       "      <td>Annie</td>\n",
       "      <td>12</td>\n",
       "    </tr>\n",
       "    <tr>\n",
       "      <th>2</th>\n",
       "      <td>AK</td>\n",
       "      <td>F</td>\n",
       "      <td>1910</td>\n",
       "      <td>Anna</td>\n",
       "      <td>10</td>\n",
       "    </tr>\n",
       "    <tr>\n",
       "      <th>3</th>\n",
       "      <td>AK</td>\n",
       "      <td>F</td>\n",
       "      <td>1910</td>\n",
       "      <td>Margaret</td>\n",
       "      <td>8</td>\n",
       "    </tr>\n",
       "    <tr>\n",
       "      <th>4</th>\n",
       "      <td>AK</td>\n",
       "      <td>F</td>\n",
       "      <td>1910</td>\n",
       "      <td>Helen</td>\n",
       "      <td>7</td>\n",
       "    </tr>\n",
       "  </tbody>\n",
       "</table>\n",
       "</div>"
      ],
      "text/plain": [
       "  State Sex  Year Born      Name  Name Frequency\n",
       "0    AK   F       1910      Mary              14\n",
       "1    AK   F       1910     Annie              12\n",
       "2    AK   F       1910      Anna              10\n",
       "3    AK   F       1910  Margaret               8\n",
       "4    AK   F       1910     Helen               7"
      ]
     },
     "execution_count": 16,
     "metadata": {},
     "output_type": "execute_result"
    }
   ],
   "source": [
    "train_DF_AK=pd.read_csv('namesbystate/AK.txt', delimiter=',', names=['State','Sex','Year Born','Name','Name Frequency'])\n",
    "train_DF_AK.head()"
   ]
  },
  {
   "cell_type": "markdown",
   "metadata": {},
   "source": [
    "1.  Please describe the format of the data files. Can you identify any \n",
    "    limitations or distortions of the data? \n",
    "\n",
    "**The list of names for each states is a comma delimited text file which 5 columns describing the State, Sex, Year Born, Names, and Name Frequency**"
   ]
  },
  {
   "cell_type": "code",
   "execution_count": 193,
   "metadata": {
    "collapsed": false
   },
   "outputs": [],
   "source": [
    "##Creating a big DataFrame (train_DF_popular) containing the data from all states##\n",
    "train_DF_popular=pd.DataFrame()\n",
    "for fil in glob.glob('./namesbystate/*.TXT'):\n",
    "     train_DF_popular=train_DF_popular.append(pd.read_csv(fil, delimiter=',', names=['State','Sex','Year Born','Name',\\\n",
    "                                                                                     'Name Frequency']), ignore_index=True)"
   ]
  },
  {
   "cell_type": "code",
   "execution_count": 199,
   "metadata": {
    "collapsed": false
   },
   "outputs": [
    {
     "name": "stdout",
     "output_type": "stream",
     "text": [
      "The most popular name of all time is: James \n",
      "With total count of: 4957166\n"
     ]
    }
   ],
   "source": [
    "##Grouping by Name and couting the total frequency for each name to find the most popular name##\n",
    "train_DF_total_freq=train_DF_popular.groupby('Name').sum()['Name Frequency']\n",
    "print \"The most popular name of all time is:\", train_DF_total_freq.idxmax(),'\\n','With total count of:',\\\n",
    "train_DF_total_freq.ix[train_DF_total_freq.idxmax()]"
   ]
  },
  {
   "cell_type": "markdown",
   "metadata": {},
   "source": [
    "2. What is the most popular name of all time? (Of either gender.)\n",
    "\n",
    "The most popular name of all time is: **James** With total count of **4957166**"
   ]
  },
  {
   "cell_type": "code",
   "execution_count": 200,
   "metadata": {
    "collapsed": false
   },
   "outputs": [
    {
     "name": "stdout",
     "output_type": "stream",
     "text": [
      "Emma\n",
      "20881\n"
     ]
    }
   ],
   "source": [
    "female_names=pd.DataFrame(train_DF_popular.ix[train_DF_popular['Year Born']==2013].groupby(['Sex','Name']).sum()['Name Frequency'].ix['F'])\n",
    "male_names=pd.DataFrame(train_DF_popular.ix[train_DF_popular['Year Born']==2013].groupby(['Sex','Name']).sum()['Name Frequency'].ix['M'])\n",
    "male_female_inner_join=pd.concat([female_names, male_names], axis=1, join='inner')\n",
    "print male_female_inner_join.sum(axis=1).idxmax()\n",
    "print male_female_inner_join.sum(axis=1).max()"
   ]
  },
  {
   "cell_type": "code",
   "execution_count": 201,
   "metadata": {
    "collapsed": false
   },
   "outputs": [
    {
     "name": "stdout",
     "output_type": "stream",
     "text": [
      "James\n",
      "74651\n"
     ]
    }
   ],
   "source": [
    "female_names=pd.DataFrame(train_DF_popular.ix[train_DF_popular['Year Born']==1945].groupby(['Sex','Name']).sum()['Name Frequency'].ix['F'])\n",
    "male_names=pd.DataFrame(train_DF_popular.ix[train_DF_popular['Year Born']==1945].groupby(['Sex','Name']).sum()['Name Frequency'].ix['M'])\n",
    "male_female_inner_join=pd.concat([female_names, male_names], axis=1, join='inner')\n",
    "print male_female_inner_join.sum(axis=1).idxmax()\n",
    "print male_female_inner_join.sum(axis=1).max()"
   ]
  },
  {
   "cell_type": "markdown",
   "metadata": {},
   "source": [
    "3.  What is the most gender ambiguous name in 2013? 1945?\n",
    "\n",
    "The most gender ambiguos name in 2013 is: **Emma** With total count of **20881**\n",
    "\n",
    "The most gender ambiguos name in 1945 is: **James** With total count of **74651**"
   ]
  },
  {
   "cell_type": "code",
   "execution_count": null,
   "metadata": {
    "collapsed": true
   },
   "outputs": [],
   "source": []
  }
 ],
 "metadata": {
  "kernelspec": {
   "display_name": "Python 2",
   "language": "python",
   "name": "python2"
  },
  "language_info": {
   "codemirror_mode": {
    "name": "ipython",
    "version": 2
   },
   "file_extension": ".py",
   "mimetype": "text/x-python",
   "name": "python",
   "nbconvert_exporter": "python",
   "pygments_lexer": "ipython2",
   "version": "2.7.10"
  }
 },
 "nbformat": 4,
 "nbformat_minor": 0
}
